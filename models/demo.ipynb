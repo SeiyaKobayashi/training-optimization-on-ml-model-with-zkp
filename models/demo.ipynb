{
 "cells": [
  {
   "cell_type": "code",
   "execution_count": 1,
   "metadata": {},
   "outputs": [],
   "source": [
    "from tensorflow.keras.layers import (\n",
    "    Input,\n",
    "    AveragePooling2D,\n",
    "    BatchNormalization,\n",
    "    Conv2D,\n",
    "    Dense,\n",
    "    GlobalAveragePooling2D,\n",
    "    ReLU,\n",
    "    Softmax,\n",
    ")\n",
    "from tensorflow.keras import Model\n",
    "from tensorflow.keras.datasets import mnist\n",
    "from tensorflow.keras.utils import to_categorical\n",
    "import numpy as np\n",
    "import matplotlib.pyplot as plt\n",
    "import tensorflow as tf"
   ]
  },
  {
   "cell_type": "code",
   "execution_count": 2,
   "metadata": {},
   "outputs": [],
   "source": [
    "# load MNIST dataset\n",
    "(X_train, y_train), (X_test, y_test) = mnist.load_data()"
   ]
  },
  {
   "cell_type": "code",
   "execution_count": 3,
   "metadata": {},
   "outputs": [],
   "source": [
    "# convert y_train and y_test to one-hot encoding\n",
    "y_train = to_categorical(y_train)\n",
    "y_test = to_categorical(y_test)"
   ]
  },
  {
   "cell_type": "code",
   "execution_count": 4,
   "metadata": {},
   "outputs": [],
   "source": [
    "# reshape X_train and X_test to 4D tensor\n",
    "X_train = X_train.reshape(X_train.shape[0], 28, 28, 1)\n",
    "X_test = X_test.reshape(X_test.shape[0], 28, 28, 1)"
   ]
  },
  {
   "cell_type": "code",
   "execution_count": 5,
   "metadata": {},
   "outputs": [],
   "source": [
    "_input = Input(shape=(28,28,1))\n",
    "_out = Conv2D(4, 3, use_bias=False)(_input)\n",
    "_out = BatchNormalization()(_out)\n",
    "_out = ReLU()(_out)\n",
    "_out = AveragePooling2D()(_out)\n",
    "_out = Conv2D(16, 3, use_bias=False)(_out)\n",
    "_out = BatchNormalization()(_out)\n",
    "# _out = ReLU()(_out)\n",
    "_out = AveragePooling2D()(_out)\n",
    "_out = GlobalAveragePooling2D()(_out)\n",
    "_out = Dense(10, activation=None)(_out)\n",
    "_out = Softmax()(_out)\n",
    "model = Model(_input, _out)"
   ]
  },
  {
   "cell_type": "code",
   "execution_count": 6,
   "metadata": {},
   "outputs": [
    {
     "name": "stdout",
     "output_type": "stream",
     "text": [
      "Model: \"model\"\n",
      "_________________________________________________________________\n",
      " Layer (type)                Output Shape              Param #   \n",
      "=================================================================\n",
      " input_1 (InputLayer)        [(None, 28, 28, 1)]       0         \n",
      "                                                                 \n",
      " conv2d (Conv2D)             (None, 26, 26, 4)         36        \n",
      "                                                                 \n",
      " batch_normalization (BatchN  (None, 26, 26, 4)        16        \n",
      " ormalization)                                                   \n",
      "                                                                 \n",
      " re_lu (ReLU)                (None, 26, 26, 4)         0         \n",
      "                                                                 \n",
      " average_pooling2d (AverageP  (None, 13, 13, 4)        0         \n",
      " ooling2D)                                                       \n",
      "                                                                 \n",
      " conv2d_1 (Conv2D)           (None, 11, 11, 16)        576       \n",
      "                                                                 \n",
      " batch_normalization_1 (Batc  (None, 11, 11, 16)       64        \n",
      " hNormalization)                                                 \n",
      "                                                                 \n",
      " average_pooling2d_1 (Averag  (None, 5, 5, 16)         0         \n",
      " ePooling2D)                                                     \n",
      "                                                                 \n",
      " global_average_pooling2d (G  (None, 16)               0         \n",
      " lobalAveragePooling2D)                                          \n",
      "                                                                 \n",
      " dense (Dense)               (None, 10)                170       \n",
      "                                                                 \n",
      " softmax (Softmax)           (None, 10)                0         \n",
      "                                                                 \n",
      "=================================================================\n",
      "Total params: 862\n",
      "Trainable params: 822\n",
      "Non-trainable params: 40\n",
      "_________________________________________________________________\n"
     ]
    }
   ],
   "source": [
    "model.summary()"
   ]
  },
  {
   "cell_type": "code",
   "execution_count": 7,
   "metadata": {},
   "outputs": [],
   "source": [
    "model.compile(\n",
    "    loss='categorical_crossentropy',\n",
    "    optimizer='adam',\n",
    "    metrics=['acc']\n",
    "    )"
   ]
  },
  {
   "cell_type": "code",
   "execution_count": 8,
   "metadata": {},
   "outputs": [
    {
     "name": "stdout",
     "output_type": "stream",
     "text": [
      "Epoch 1/30\n"
     ]
    },
    {
     "name": "stderr",
     "output_type": "stream",
     "text": [
      "2023-05-04 13:20:17.095064: W tensorflow/tsl/platform/profile_utils/cpu_utils.cc:128] Failed to get CPU frequency: 0 Hz\n"
     ]
    },
    {
     "name": "stdout",
     "output_type": "stream",
     "text": [
      "469/469 [==============================] - 4s 7ms/step - loss: 1.6210 - acc: 0.4852 - val_loss: 1.3239 - val_acc: 0.5373\n",
      "Epoch 2/30\n",
      "469/469 [==============================] - 3s 7ms/step - loss: 1.0662 - acc: 0.6805 - val_loss: 0.9688 - val_acc: 0.6799\n",
      "Epoch 3/30\n",
      "469/469 [==============================] - 3s 7ms/step - loss: 0.8523 - acc: 0.7361 - val_loss: 0.7742 - val_acc: 0.7585\n",
      "Epoch 4/30\n",
      "469/469 [==============================] - 3s 7ms/step - loss: 0.7346 - acc: 0.7694 - val_loss: 0.7246 - val_acc: 0.7685\n",
      "Epoch 5/30\n",
      "469/469 [==============================] - 3s 7ms/step - loss: 0.6569 - acc: 0.7950 - val_loss: 0.7467 - val_acc: 0.7498\n",
      "Epoch 6/30\n",
      "469/469 [==============================] - 3s 7ms/step - loss: 0.6011 - acc: 0.8126 - val_loss: 0.7032 - val_acc: 0.7560\n",
      "Epoch 7/30\n",
      "469/469 [==============================] - 3s 7ms/step - loss: 0.5597 - acc: 0.8238 - val_loss: 0.7855 - val_acc: 0.7202\n",
      "Epoch 8/30\n",
      "469/469 [==============================] - 3s 7ms/step - loss: 0.5310 - acc: 0.8320 - val_loss: 0.6020 - val_acc: 0.7946\n",
      "Epoch 9/30\n",
      "469/469 [==============================] - 3s 7ms/step - loss: 0.5091 - acc: 0.8382 - val_loss: 0.6468 - val_acc: 0.7796\n",
      "Epoch 10/30\n",
      "469/469 [==============================] - 3s 7ms/step - loss: 0.4938 - acc: 0.8411 - val_loss: 0.6498 - val_acc: 0.7827\n",
      "Epoch 11/30\n",
      "469/469 [==============================] - 3s 7ms/step - loss: 0.4797 - acc: 0.8456 - val_loss: 0.6798 - val_acc: 0.7643\n",
      "Epoch 12/30\n",
      "469/469 [==============================] - 3s 7ms/step - loss: 0.4707 - acc: 0.8475 - val_loss: 0.5732 - val_acc: 0.8089\n",
      "Epoch 13/30\n",
      "469/469 [==============================] - 3s 7ms/step - loss: 0.4627 - acc: 0.8503 - val_loss: 0.5957 - val_acc: 0.8010\n",
      "Epoch 14/30\n",
      "469/469 [==============================] - 4s 8ms/step - loss: 0.4549 - acc: 0.8526 - val_loss: 0.5712 - val_acc: 0.8149\n",
      "Epoch 15/30\n",
      "469/469 [==============================] - 3s 7ms/step - loss: 0.4512 - acc: 0.8537 - val_loss: 0.5770 - val_acc: 0.8026\n",
      "Epoch 16/30\n",
      "469/469 [==============================] - 3s 7ms/step - loss: 0.4437 - acc: 0.8556 - val_loss: 0.5651 - val_acc: 0.8093\n",
      "Epoch 17/30\n",
      "469/469 [==============================] - 3s 7ms/step - loss: 0.4400 - acc: 0.8574 - val_loss: 0.6484 - val_acc: 0.7810\n",
      "Epoch 18/30\n",
      "469/469 [==============================] - 3s 7ms/step - loss: 0.4382 - acc: 0.8566 - val_loss: 0.5817 - val_acc: 0.7991\n",
      "Epoch 19/30\n",
      "469/469 [==============================] - 3s 7ms/step - loss: 0.4338 - acc: 0.8585 - val_loss: 0.5029 - val_acc: 0.8308\n",
      "Epoch 20/30\n",
      "469/469 [==============================] - 3s 7ms/step - loss: 0.4305 - acc: 0.8597 - val_loss: 0.9086 - val_acc: 0.7041\n",
      "Epoch 21/30\n",
      "469/469 [==============================] - 3s 7ms/step - loss: 0.4286 - acc: 0.8610 - val_loss: 0.5626 - val_acc: 0.8098\n",
      "Epoch 22/30\n",
      "469/469 [==============================] - 3s 7ms/step - loss: 0.4250 - acc: 0.8612 - val_loss: 0.7966 - val_acc: 0.7346\n",
      "Epoch 23/30\n",
      "469/469 [==============================] - 3s 7ms/step - loss: 0.4241 - acc: 0.8616 - val_loss: 0.5177 - val_acc: 0.8275\n",
      "Epoch 24/30\n",
      "469/469 [==============================] - 3s 7ms/step - loss: 0.4214 - acc: 0.8622 - val_loss: 0.5015 - val_acc: 0.8267\n",
      "Epoch 25/30\n",
      "469/469 [==============================] - 4s 7ms/step - loss: 0.4215 - acc: 0.8620 - val_loss: 0.4810 - val_acc: 0.8387\n",
      "Epoch 26/30\n",
      "469/469 [==============================] - 3s 7ms/step - loss: 0.4189 - acc: 0.8640 - val_loss: 0.6675 - val_acc: 0.7728\n",
      "Epoch 27/30\n",
      "469/469 [==============================] - 3s 7ms/step - loss: 0.4174 - acc: 0.8631 - val_loss: 0.4766 - val_acc: 0.8410\n",
      "Epoch 28/30\n",
      "469/469 [==============================] - 3s 7ms/step - loss: 0.4163 - acc: 0.8640 - val_loss: 0.7389 - val_acc: 0.7568\n",
      "Epoch 29/30\n",
      "469/469 [==============================] - 3s 7ms/step - loss: 0.4150 - acc: 0.8646 - val_loss: 0.7208 - val_acc: 0.7568\n",
      "Epoch 30/30\n",
      "469/469 [==============================] - 3s 7ms/step - loss: 0.4144 - acc: 0.8657 - val_loss: 0.9115 - val_acc: 0.7060\n"
     ]
    },
    {
     "data": {
      "text/plain": [
       "<keras.callbacks.History at 0x29e13a680>"
      ]
     },
     "execution_count": 8,
     "metadata": {},
     "output_type": "execute_result"
    }
   ],
   "source": [
    "model.fit(X_train, y_train, epochs=30, batch_size=128, validation_data=(X_test, y_test))"
   ]
  },
  {
   "cell_type": "code",
   "execution_count": 9,
   "metadata": {},
   "outputs": [],
   "source": [
    "model.save('demo.h5')"
   ]
  },
  {
   "cell_type": "code",
   "execution_count": 10,
   "metadata": {},
   "outputs": [
    {
     "name": "stdout",
     "output_type": "stream",
     "text": [
      "1/1 [==============================] - 0s 73ms/step\n"
     ]
    },
    {
     "data": {
      "text/plain": [
       "array([0])"
      ]
     },
     "execution_count": 10,
     "metadata": {},
     "output_type": "execute_result"
    }
   ],
   "source": [
    "X = X_test[[3]]\n",
    "y = model.predict(X).argmax(1)\n",
    "y"
   ]
  }
 ],
 "metadata": {
  "kernelspec": {
   "display_name": "Python 3 (ipykernel)",
   "language": "python",
   "name": "python3"
  },
  "language_info": {
   "codemirror_mode": {
    "name": "ipython",
    "version": 3
   },
   "file_extension": ".py",
   "mimetype": "text/x-python",
   "name": "python",
   "nbconvert_exporter": "python",
   "pygments_lexer": "ipython3",
   "version": "3.10.9"
  },
  "vscode": {
   "interpreter": {
    "hash": "71414dc221f26c27f268040756e42b4f7499507456a67f7434828e3314a20678"
   }
  }
 },
 "nbformat": 4,
 "nbformat_minor": 2
}
