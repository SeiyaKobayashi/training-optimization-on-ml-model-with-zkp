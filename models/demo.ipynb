{
 "cells": [
  {
   "cell_type": "code",
   "execution_count": 1,
   "metadata": {},
   "outputs": [],
   "source": [
    "from tensorflow.keras.layers import (\n",
    "    Input,\n",
    "    AveragePooling2D,\n",
    "    BatchNormalization,\n",
    "    Conv2D,\n",
    "    Dense,\n",
    "    GlobalAveragePooling2D,\n",
    "    Softmax,\n",
    ")\n",
    "from tensorflow.keras import Model\n",
    "from tensorflow.keras.datasets import mnist\n",
    "from tensorflow.keras.utils import to_categorical\n",
    "import numpy as np\n",
    "import matplotlib.pyplot as plt\n",
    "import tensorflow as tf"
   ]
  },
  {
   "cell_type": "code",
   "execution_count": 2,
   "metadata": {},
   "outputs": [],
   "source": [
    "# load MNIST dataset\n",
    "(X_train, y_train), (X_test, y_test) = mnist.load_data()"
   ]
  },
  {
   "cell_type": "code",
   "execution_count": 3,
   "metadata": {},
   "outputs": [],
   "source": [
    "# convert y_train and y_test to one-hot encoding\n",
    "y_train = to_categorical(y_train)\n",
    "y_test = to_categorical(y_test)"
   ]
  },
  {
   "cell_type": "code",
   "execution_count": 4,
   "metadata": {},
   "outputs": [],
   "source": [
    "# reshape X_train and X_test to 4D tensor\n",
    "X_train = X_train.reshape(X_train.shape[0], 28, 28, 1)\n",
    "X_test = X_test.reshape(X_test.shape[0], 28, 28, 1)"
   ]
  },
  {
   "cell_type": "code",
   "execution_count": 5,
   "metadata": {},
   "outputs": [],
   "source": [
    "_input = Input(shape=(28,28,1))\n",
    "_out = Conv2D(4, 3, use_bias=False)(_input)\n",
    "_out = BatchNormalization()(_out)\n",
    "_out = AveragePooling2D()(_out)\n",
    "_out = Conv2D(16, 3, use_bias=False)(_out)\n",
    "_out = BatchNormalization()(_out)\n",
    "_out = AveragePooling2D()(_out)\n",
    "_out = GlobalAveragePooling2D()(_out)\n",
    "_out = Dense(10, activation=None)(_out)\n",
    "_out = Softmax()(_out)\n",
    "model = Model(_input, _out)"
   ]
  },
  {
   "cell_type": "code",
   "execution_count": 6,
   "metadata": {},
   "outputs": [
    {
     "name": "stdout",
     "output_type": "stream",
     "text": [
      "Model: \"model\"\n",
      "_________________________________________________________________\n",
      " Layer (type)                Output Shape              Param #   \n",
      "=================================================================\n",
      " input_1 (InputLayer)        [(None, 28, 28, 1)]       0         \n",
      "                                                                 \n",
      " conv2d (Conv2D)             (None, 26, 26, 4)         36        \n",
      "                                                                 \n",
      " batch_normalization (BatchN  (None, 26, 26, 4)        16        \n",
      " ormalization)                                                   \n",
      "                                                                 \n",
      " average_pooling2d (AverageP  (None, 13, 13, 4)        0         \n",
      " ooling2D)                                                       \n",
      "                                                                 \n",
      " conv2d_1 (Conv2D)           (None, 11, 11, 16)        576       \n",
      "                                                                 \n",
      " batch_normalization_1 (Batc  (None, 11, 11, 16)       64        \n",
      " hNormalization)                                                 \n",
      "                                                                 \n",
      " average_pooling2d_1 (Averag  (None, 5, 5, 16)         0         \n",
      " ePooling2D)                                                     \n",
      "                                                                 \n",
      " global_average_pooling2d (G  (None, 16)               0         \n",
      " lobalAveragePooling2D)                                          \n",
      "                                                                 \n",
      " dense (Dense)               (None, 10)                170       \n",
      "                                                                 \n",
      " softmax (Softmax)           (None, 10)                0         \n",
      "                                                                 \n",
      "=================================================================\n",
      "Total params: 862\n",
      "Trainable params: 822\n",
      "Non-trainable params: 40\n",
      "_________________________________________________________________\n"
     ]
    }
   ],
   "source": [
    "model.summary()"
   ]
  },
  {
   "cell_type": "code",
   "execution_count": 7,
   "metadata": {},
   "outputs": [],
   "source": [
    "model.compile(\n",
    "    loss='categorical_crossentropy',\n",
    "    optimizer='adam',\n",
    "    metrics=['acc']\n",
    "    )"
   ]
  },
  {
   "cell_type": "code",
   "execution_count": 8,
   "metadata": {},
   "outputs": [
    {
     "name": "stdout",
     "output_type": "stream",
     "text": [
      "Epoch 1/30\n"
     ]
    },
    {
     "name": "stderr",
     "output_type": "stream",
     "text": [
      "2023-05-04 19:22:42.236662: W tensorflow/tsl/platform/profile_utils/cpu_utils.cc:128] Failed to get CPU frequency: 0 Hz\n"
     ]
    },
    {
     "name": "stdout",
     "output_type": "stream",
     "text": [
      "469/469 [==============================] - 4s 8ms/step - loss: 1.9974 - acc: 0.3062 - val_loss: 1.8394 - val_acc: 0.3536\n",
      "Epoch 2/30\n",
      "469/469 [==============================] - 4s 8ms/step - loss: 1.6851 - acc: 0.4572 - val_loss: 1.5900 - val_acc: 0.4617\n",
      "Epoch 3/30\n",
      "469/469 [==============================] - 4s 8ms/step - loss: 1.4715 - acc: 0.5333 - val_loss: 1.4619 - val_acc: 0.4884\n",
      "Epoch 4/30\n",
      "469/469 [==============================] - 4s 8ms/step - loss: 1.3495 - acc: 0.5750 - val_loss: 1.4114 - val_acc: 0.4954\n",
      "Epoch 5/30\n",
      "469/469 [==============================] - 3s 7ms/step - loss: 1.2760 - acc: 0.5991 - val_loss: 1.3096 - val_acc: 0.5869\n",
      "Epoch 6/30\n",
      "469/469 [==============================] - 3s 7ms/step - loss: 1.2336 - acc: 0.6135 - val_loss: 1.2651 - val_acc: 0.6042\n",
      "Epoch 7/30\n",
      "469/469 [==============================] - 4s 8ms/step - loss: 1.2052 - acc: 0.6240 - val_loss: 1.2282 - val_acc: 0.5956\n",
      "Epoch 8/30\n",
      "469/469 [==============================] - 4s 8ms/step - loss: 1.1861 - acc: 0.6328 - val_loss: 1.2064 - val_acc: 0.6127\n",
      "Epoch 9/30\n",
      "469/469 [==============================] - 4s 8ms/step - loss: 1.1699 - acc: 0.6393 - val_loss: 1.2085 - val_acc: 0.6012\n",
      "Epoch 10/30\n",
      "469/469 [==============================] - 3s 7ms/step - loss: 1.1574 - acc: 0.6435 - val_loss: 1.1623 - val_acc: 0.6521\n",
      "Epoch 11/30\n",
      "469/469 [==============================] - 3s 7ms/step - loss: 1.1459 - acc: 0.6477 - val_loss: 1.1857 - val_acc: 0.6213\n",
      "Epoch 12/30\n",
      "469/469 [==============================] - 3s 7ms/step - loss: 1.1375 - acc: 0.6512 - val_loss: 1.1834 - val_acc: 0.6434\n",
      "Epoch 13/30\n",
      "469/469 [==============================] - 3s 7ms/step - loss: 1.1302 - acc: 0.6547 - val_loss: 1.1816 - val_acc: 0.6007\n",
      "Epoch 14/30\n",
      "469/469 [==============================] - 4s 8ms/step - loss: 1.1236 - acc: 0.6546 - val_loss: 1.0988 - val_acc: 0.6765\n",
      "Epoch 15/30\n",
      "469/469 [==============================] - 3s 7ms/step - loss: 1.1203 - acc: 0.6575 - val_loss: 1.0992 - val_acc: 0.6733\n",
      "Epoch 16/30\n",
      "469/469 [==============================] - 3s 7ms/step - loss: 1.1135 - acc: 0.6598 - val_loss: 1.1093 - val_acc: 0.6697\n",
      "Epoch 17/30\n",
      "469/469 [==============================] - 3s 7ms/step - loss: 1.1090 - acc: 0.6614 - val_loss: 1.0923 - val_acc: 0.6763\n",
      "Epoch 18/30\n",
      "469/469 [==============================] - 3s 7ms/step - loss: 1.1099 - acc: 0.6609 - val_loss: 1.1455 - val_acc: 0.6538\n",
      "Epoch 19/30\n",
      "469/469 [==============================] - 3s 7ms/step - loss: 1.1047 - acc: 0.6622 - val_loss: 1.2401 - val_acc: 0.6062\n",
      "Epoch 20/30\n",
      "469/469 [==============================] - 3s 7ms/step - loss: 1.1006 - acc: 0.6651 - val_loss: 1.1511 - val_acc: 0.6633\n",
      "Epoch 21/30\n",
      "469/469 [==============================] - 3s 7ms/step - loss: 1.0984 - acc: 0.6650 - val_loss: 1.1705 - val_acc: 0.6230\n",
      "Epoch 22/30\n",
      "469/469 [==============================] - 3s 7ms/step - loss: 1.0986 - acc: 0.6650 - val_loss: 1.2837 - val_acc: 0.6092\n",
      "Epoch 23/30\n",
      "469/469 [==============================] - 3s 7ms/step - loss: 1.0946 - acc: 0.6664 - val_loss: 1.1860 - val_acc: 0.6286\n",
      "Epoch 24/30\n",
      "469/469 [==============================] - 3s 7ms/step - loss: 1.0918 - acc: 0.6665 - val_loss: 1.1042 - val_acc: 0.6722\n",
      "Epoch 25/30\n",
      "469/469 [==============================] - 3s 7ms/step - loss: 1.0901 - acc: 0.6692 - val_loss: 1.0782 - val_acc: 0.6842\n",
      "Epoch 26/30\n",
      "469/469 [==============================] - 3s 7ms/step - loss: 1.0889 - acc: 0.6677 - val_loss: 1.1099 - val_acc: 0.6709\n",
      "Epoch 27/30\n",
      "469/469 [==============================] - 3s 7ms/step - loss: 1.0884 - acc: 0.6679 - val_loss: 1.1707 - val_acc: 0.6078\n",
      "Epoch 28/30\n",
      "469/469 [==============================] - 3s 7ms/step - loss: 1.0861 - acc: 0.6689 - val_loss: 1.1051 - val_acc: 0.6619\n",
      "Epoch 29/30\n",
      "469/469 [==============================] - 3s 7ms/step - loss: 1.0855 - acc: 0.6699 - val_loss: 1.2830 - val_acc: 0.5845\n",
      "Epoch 30/30\n",
      "469/469 [==============================] - 3s 7ms/step - loss: 1.0827 - acc: 0.6699 - val_loss: 1.1245 - val_acc: 0.6300\n"
     ]
    },
    {
     "data": {
      "text/plain": [
       "<keras.callbacks.History at 0x2a71f2dd0>"
      ]
     },
     "execution_count": 8,
     "metadata": {},
     "output_type": "execute_result"
    }
   ],
   "source": [
    "model.fit(X_train, y_train, epochs=30, batch_size=128, validation_data=(X_test, y_test))"
   ]
  },
  {
   "cell_type": "code",
   "execution_count": 9,
   "metadata": {},
   "outputs": [],
   "source": [
    "model.save('demo.h5')"
   ]
  },
  {
   "cell_type": "code",
   "execution_count": 10,
   "metadata": {},
   "outputs": [
    {
     "name": "stdout",
     "output_type": "stream",
     "text": [
      "1/1 [==============================] - 0s 117ms/step\n"
     ]
    },
    {
     "data": {
      "text/plain": [
       "array([0])"
      ]
     },
     "execution_count": 10,
     "metadata": {},
     "output_type": "execute_result"
    }
   ],
   "source": [
    "X = X_test[[3]]\n",
    "y = model.predict(X).argmax(1)\n",
    "y"
   ]
  }
 ],
 "metadata": {
  "kernelspec": {
   "display_name": "Python 3 (ipykernel)",
   "language": "python",
   "name": "python3"
  },
  "language_info": {
   "codemirror_mode": {
    "name": "ipython",
    "version": 3
   },
   "file_extension": ".py",
   "mimetype": "text/x-python",
   "name": "python",
   "nbconvert_exporter": "python",
   "pygments_lexer": "ipython3",
   "version": "3.10.9"
  },
  "vscode": {
   "interpreter": {
    "hash": "71414dc221f26c27f268040756e42b4f7499507456a67f7434828e3314a20678"
   }
  }
 },
 "nbformat": 4,
 "nbformat_minor": 2
}
