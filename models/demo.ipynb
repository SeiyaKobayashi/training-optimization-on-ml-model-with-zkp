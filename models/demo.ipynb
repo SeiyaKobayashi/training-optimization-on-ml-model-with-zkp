{
 "cells": [
  {
   "cell_type": "code",
   "execution_count": 7,
   "metadata": {},
   "outputs": [],
   "source": [
    "from tensorflow.keras.layers import (\n",
    "    Input,\n",
    "    AveragePooling2D,\n",
    "    BatchNormalization,\n",
    "    Conv2D,\n",
    "    Dense,\n",
    "    GlobalAveragePooling2D,\n",
    "    ReLU,\n",
    "    Softmax,\n",
    ")\n",
    "from tensorflow.keras import Model\n",
    "from tensorflow.keras.datasets import mnist\n",
    "from tensorflow.keras.utils import to_categorical\n",
    "import numpy as np\n",
    "import matplotlib.pyplot as plt\n",
    "import tensorflow as tf"
   ]
  },
  {
   "cell_type": "code",
   "execution_count": 8,
   "metadata": {},
   "outputs": [],
   "source": [
    "# load MNIST dataset\n",
    "(X_train, y_train), (X_test, y_test) = mnist.load_data()"
   ]
  },
  {
   "cell_type": "code",
   "execution_count": 9,
   "metadata": {},
   "outputs": [],
   "source": [
    "# convert y_train and y_test to one-hot encoding\n",
    "y_train = to_categorical(y_train)\n",
    "y_test = to_categorical(y_test)"
   ]
  },
  {
   "cell_type": "code",
   "execution_count": 10,
   "metadata": {},
   "outputs": [],
   "source": [
    "# reshape X_train and X_test to 4D tensor\n",
    "X_train = X_train.reshape(X_train.shape[0], 28, 28, 1)\n",
    "X_test = X_test.reshape(X_test.shape[0], 28, 28, 1)"
   ]
  },
  {
   "cell_type": "code",
   "execution_count": 11,
   "metadata": {},
   "outputs": [],
   "source": [
    "_input = Input(shape=(28,28,1))\n",
    "_out = Conv2D(4, 3, use_bias=False)(_input)\n",
    "_out = BatchNormalization()(_out)\n",
    "_out = ReLU()(_out)\n",
    "_out = AveragePooling2D()(_out)\n",
    "_out = Conv2D(16, 3, use_bias=False)(_out)\n",
    "_out = BatchNormalization()(_out)\n",
    "_out = ReLU()(_out)\n",
    "_out = AveragePooling2D()(_out)\n",
    "_out = GlobalAveragePooling2D()(_out)\n",
    "_out = Dense(10, activation=None)(_out)\n",
    "_out = Softmax()(_out)\n",
    "model = Model(_input, _out)"
   ]
  },
  {
   "cell_type": "code",
   "execution_count": 12,
   "metadata": {},
   "outputs": [
    {
     "name": "stdout",
     "output_type": "stream",
     "text": [
      "Model: \"model\"\n",
      "_________________________________________________________________\n",
      " Layer (type)                Output Shape              Param #   \n",
      "=================================================================\n",
      " input_1 (InputLayer)        [(None, 28, 28, 1)]       0         \n",
      "                                                                 \n",
      " conv2d (Conv2D)             (None, 26, 26, 4)         36        \n",
      "                                                                 \n",
      " batch_normalization (BatchN  (None, 26, 26, 4)        16        \n",
      " ormalization)                                                   \n",
      "                                                                 \n",
      " re_lu (ReLU)                (None, 26, 26, 4)         0         \n",
      "                                                                 \n",
      " average_pooling2d (AverageP  (None, 13, 13, 4)        0         \n",
      " ooling2D)                                                       \n",
      "                                                                 \n",
      " conv2d_1 (Conv2D)           (None, 11, 11, 16)        576       \n",
      "                                                                 \n",
      " batch_normalization_1 (Batc  (None, 11, 11, 16)       64        \n",
      " hNormalization)                                                 \n",
      "                                                                 \n",
      " re_lu_1 (ReLU)              (None, 11, 11, 16)        0         \n",
      "                                                                 \n",
      " average_pooling2d_1 (Averag  (None, 5, 5, 16)         0         \n",
      " ePooling2D)                                                     \n",
      "                                                                 \n",
      " global_average_pooling2d (G  (None, 16)               0         \n",
      " lobalAveragePooling2D)                                          \n",
      "                                                                 \n",
      " dense (Dense)               (None, 10)                170       \n",
      "                                                                 \n",
      " softmax (Softmax)           (None, 10)                0         \n",
      "                                                                 \n",
      "=================================================================\n",
      "Total params: 862\n",
      "Trainable params: 822\n",
      "Non-trainable params: 40\n",
      "_________________________________________________________________\n"
     ]
    }
   ],
   "source": [
    "model.summary()"
   ]
  },
  {
   "cell_type": "code",
   "execution_count": 13,
   "metadata": {},
   "outputs": [],
   "source": [
    "model.compile(\n",
    "    loss='categorical_crossentropy',\n",
    "    optimizer='adam',\n",
    "    metrics=['acc']\n",
    "    )"
   ]
  },
  {
   "cell_type": "code",
   "execution_count": 14,
   "metadata": {},
   "outputs": [
    {
     "name": "stdout",
     "output_type": "stream",
     "text": [
      "Epoch 1/30\n"
     ]
    },
    {
     "name": "stderr",
     "output_type": "stream",
     "text": [
      "2023-05-02 23:25:27.882500: W tensorflow/tsl/platform/profile_utils/cpu_utils.cc:128] Failed to get CPU frequency: 0 Hz\n"
     ]
    },
    {
     "name": "stdout",
     "output_type": "stream",
     "text": [
      "469/469 [==============================] - 4s 7ms/step - loss: 1.9503 - acc: 0.3902 - val_loss: 1.6643 - val_acc: 0.4428\n",
      "Epoch 2/30\n",
      "469/469 [==============================] - 3s 7ms/step - loss: 1.3696 - acc: 0.6036 - val_loss: 1.2378 - val_acc: 0.6104\n",
      "Epoch 3/30\n",
      "469/469 [==============================] - 3s 7ms/step - loss: 1.0641 - acc: 0.7270 - val_loss: 0.9649 - val_acc: 0.7374\n",
      "Epoch 4/30\n",
      "469/469 [==============================] - 3s 7ms/step - loss: 0.8773 - acc: 0.7792 - val_loss: 0.8129 - val_acc: 0.7817\n",
      "Epoch 5/30\n",
      "469/469 [==============================] - 3s 7ms/step - loss: 0.7487 - acc: 0.8094 - val_loss: 0.6737 - val_acc: 0.8301\n",
      "Epoch 6/30\n",
      "469/469 [==============================] - 3s 7ms/step - loss: 0.6560 - acc: 0.8335 - val_loss: 0.6187 - val_acc: 0.8382\n",
      "Epoch 7/30\n",
      "469/469 [==============================] - 3s 7ms/step - loss: 0.5845 - acc: 0.8526 - val_loss: 0.5788 - val_acc: 0.8392\n",
      "Epoch 8/30\n",
      "469/469 [==============================] - 3s 7ms/step - loss: 0.5275 - acc: 0.8676 - val_loss: 0.4723 - val_acc: 0.8821\n",
      "Epoch 9/30\n",
      "469/469 [==============================] - 3s 7ms/step - loss: 0.4814 - acc: 0.8793 - val_loss: 0.4822 - val_acc: 0.8722\n",
      "Epoch 10/30\n",
      "469/469 [==============================] - 3s 7ms/step - loss: 0.4452 - acc: 0.8880 - val_loss: 0.4080 - val_acc: 0.8962\n",
      "Epoch 11/30\n",
      "469/469 [==============================] - 3s 7ms/step - loss: 0.4136 - acc: 0.8946 - val_loss: 0.3994 - val_acc: 0.8999\n",
      "Epoch 12/30\n",
      "469/469 [==============================] - 3s 7ms/step - loss: 0.3861 - acc: 0.9025 - val_loss: 0.3895 - val_acc: 0.8998\n",
      "Epoch 13/30\n",
      "469/469 [==============================] - 3s 7ms/step - loss: 0.3631 - acc: 0.9074 - val_loss: 0.4246 - val_acc: 0.8766\n",
      "Epoch 14/30\n",
      "469/469 [==============================] - 3s 7ms/step - loss: 0.3431 - acc: 0.9122 - val_loss: 0.3292 - val_acc: 0.9174\n",
      "Epoch 15/30\n",
      "469/469 [==============================] - 4s 8ms/step - loss: 0.3248 - acc: 0.9171 - val_loss: 0.3074 - val_acc: 0.9197\n",
      "Epoch 16/30\n",
      "469/469 [==============================] - 4s 7ms/step - loss: 0.3104 - acc: 0.9194 - val_loss: 0.3086 - val_acc: 0.9173\n",
      "Epoch 17/30\n",
      "469/469 [==============================] - 3s 7ms/step - loss: 0.2970 - acc: 0.9227 - val_loss: 0.3018 - val_acc: 0.9208\n",
      "Epoch 18/30\n",
      "469/469 [==============================] - 3s 7ms/step - loss: 0.2855 - acc: 0.9258 - val_loss: 0.2798 - val_acc: 0.9247\n",
      "Epoch 19/30\n",
      "469/469 [==============================] - 3s 7ms/step - loss: 0.2759 - acc: 0.9276 - val_loss: 0.2747 - val_acc: 0.9253\n",
      "Epoch 20/30\n",
      "469/469 [==============================] - 3s 7ms/step - loss: 0.2659 - acc: 0.9302 - val_loss: 0.2553 - val_acc: 0.9318\n",
      "Epoch 21/30\n",
      "469/469 [==============================] - 3s 7ms/step - loss: 0.2575 - acc: 0.9320 - val_loss: 0.2653 - val_acc: 0.9259\n",
      "Epoch 22/30\n",
      "469/469 [==============================] - 3s 7ms/step - loss: 0.2504 - acc: 0.9336 - val_loss: 0.2645 - val_acc: 0.9294\n",
      "Epoch 23/30\n",
      "469/469 [==============================] - 3s 7ms/step - loss: 0.2443 - acc: 0.9351 - val_loss: 0.2609 - val_acc: 0.9259\n",
      "Epoch 24/30\n",
      "469/469 [==============================] - 4s 8ms/step - loss: 0.2377 - acc: 0.9363 - val_loss: 0.2387 - val_acc: 0.9368\n",
      "Epoch 25/30\n",
      "469/469 [==============================] - 3s 7ms/step - loss: 0.2314 - acc: 0.9377 - val_loss: 0.2217 - val_acc: 0.9425\n",
      "Epoch 26/30\n",
      "469/469 [==============================] - 4s 8ms/step - loss: 0.2270 - acc: 0.9392 - val_loss: 0.2595 - val_acc: 0.9283\n",
      "Epoch 27/30\n",
      "469/469 [==============================] - 4s 8ms/step - loss: 0.2216 - acc: 0.9406 - val_loss: 0.2292 - val_acc: 0.9395\n",
      "Epoch 28/30\n",
      "469/469 [==============================] - 3s 7ms/step - loss: 0.2180 - acc: 0.9408 - val_loss: 0.2261 - val_acc: 0.9395\n",
      "Epoch 29/30\n",
      "469/469 [==============================] - 3s 7ms/step - loss: 0.2145 - acc: 0.9421 - val_loss: 0.2079 - val_acc: 0.9465\n",
      "Epoch 30/30\n",
      "469/469 [==============================] - 3s 7ms/step - loss: 0.2099 - acc: 0.9432 - val_loss: 0.2130 - val_acc: 0.9407\n"
     ]
    },
    {
     "data": {
      "text/plain": [
       "<keras.callbacks.History at 0x175e56e30>"
      ]
     },
     "execution_count": 14,
     "metadata": {},
     "output_type": "execute_result"
    }
   ],
   "source": [
    "model.fit(X_train, y_train, epochs=30, batch_size=128, validation_data=(X_test, y_test))"
   ]
  },
  {
   "cell_type": "code",
   "execution_count": 15,
   "metadata": {},
   "outputs": [],
   "source": [
    "model.save('demo.h5')"
   ]
  },
  {
   "cell_type": "code",
   "execution_count": 29,
   "metadata": {},
   "outputs": [
    {
     "name": "stdout",
     "output_type": "stream",
     "text": [
      "1/1 [==============================] - 0s 11ms/step\n"
     ]
    },
    {
     "data": {
      "text/plain": [
       "array([0])"
      ]
     },
     "execution_count": 29,
     "metadata": {},
     "output_type": "execute_result"
    }
   ],
   "source": [
    "X = X_test[[3]]\n",
    "y = model.predict(X).argmax(1)\n",
    "y"
   ]
  },
  {
   "cell_type": "code",
   "execution_count": null,
   "metadata": {},
   "outputs": [],
   "source": []
  }
 ],
 "metadata": {
  "kernelspec": {
   "display_name": "Python 3 (ipykernel)",
   "language": "python",
   "name": "python3"
  },
  "language_info": {
   "codemirror_mode": {
    "name": "ipython",
    "version": 3
   },
   "file_extension": ".py",
   "mimetype": "text/x-python",
   "name": "python",
   "nbconvert_exporter": "python",
   "pygments_lexer": "ipython3",
   "version": "3.10.9"
  },
  "vscode": {
   "interpreter": {
    "hash": "71414dc221f26c27f268040756e42b4f7499507456a67f7434828e3314a20678"
   }
  }
 },
 "nbformat": 4,
 "nbformat_minor": 2
}
